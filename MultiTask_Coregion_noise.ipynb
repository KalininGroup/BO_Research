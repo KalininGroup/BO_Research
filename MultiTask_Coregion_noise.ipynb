{
  "nbformat": 4,
  "nbformat_minor": 0,
  "metadata": {
    "colab": {
      "provenance": [],
      "include_colab_link": true
    },
    "kernelspec": {
      "name": "python3",
      "display_name": "Python 3"
    },
    "language_info": {
      "name": "python"
    }
  },
  "cells": [
    {
      "cell_type": "markdown",
      "metadata": {
        "id": "view-in-github",
        "colab_type": "text"
      },
      "source": [
        "<a href=\"https://colab.research.google.com/github/SergeiVKalinin/hello-world/blob/master/MultiTask_Coregion_noise.ipynb\" target=\"_parent\"><img src=\"https://colab.research.google.com/assets/colab-badge.svg\" alt=\"Open In Colab\"/></a>"
      ]
    },
    {
      "cell_type": "code",
      "execution_count": 1,
      "metadata": {
        "colab": {
          "base_uri": "https://localhost:8080/"
        },
        "id": "zrD-KmC4B1Yd",
        "outputId": "89ee0e61-4931-4754-958a-76b8a46ef1cc"
      },
      "outputs": [
        {
          "output_type": "stream",
          "name": "stdout",
          "text": [
            "Collecting git+https://github.com/ziatdinovmax/gpax.git\n",
            "  Cloning https://github.com/ziatdinovmax/gpax.git to /tmp/pip-req-build-yqmjoqje\n",
            "  Running command git clone --filter=blob:none --quiet https://github.com/ziatdinovmax/gpax.git /tmp/pip-req-build-yqmjoqje\n",
            "  Resolved https://github.com/ziatdinovmax/gpax.git to commit 5ecb3a16c773a6ad7d4295428dbcf90b20b17d38\n",
            "  Preparing metadata (setup.py) ... \u001b[?25l\u001b[?25hdone\n",
            "Requirement already satisfied: jax>=0.4.8 in /usr/local/lib/python3.10/dist-packages (from gpax==0.0.7) (0.4.10)\n",
            "Collecting numpyro>=0.11.0 (from gpax==0.0.7)\n",
            "  Downloading numpyro-0.12.1-py3-none-any.whl (304 kB)\n",
            "\u001b[2K     \u001b[90m━━━━━━━━━━━━━━━━━━━━━━━━━━━━━━━━━━━━━━━\u001b[0m \u001b[32m304.6/304.6 kB\u001b[0m \u001b[31m6.4 MB/s\u001b[0m eta \u001b[36m0:00:00\u001b[0m\n",
            "\u001b[?25hCollecting dm-haiku>=0.0.5 (from gpax==0.0.7)\n",
            "  Downloading dm_haiku-0.0.9-py3-none-any.whl (352 kB)\n",
            "\u001b[2K     \u001b[90m━━━━━━━━━━━━━━━━━━━━━━━━━━━━━━━━━━━━━━\u001b[0m \u001b[32m352.1/352.1 kB\u001b[0m \u001b[31m33.4 MB/s\u001b[0m eta \u001b[36m0:00:00\u001b[0m\n",
            "\u001b[?25hRequirement already satisfied: matplotlib>=3.1 in /usr/local/lib/python3.10/dist-packages (from gpax==0.0.7) (3.7.1)\n",
            "Requirement already satisfied: absl-py>=0.7.1 in /usr/local/lib/python3.10/dist-packages (from dm-haiku>=0.0.5->gpax==0.0.7) (1.4.0)\n",
            "Collecting jmp>=0.0.2 (from dm-haiku>=0.0.5->gpax==0.0.7)\n",
            "  Downloading jmp-0.0.4-py3-none-any.whl (18 kB)\n",
            "Requirement already satisfied: numpy>=1.18.0 in /usr/local/lib/python3.10/dist-packages (from dm-haiku>=0.0.5->gpax==0.0.7) (1.22.4)\n",
            "Requirement already satisfied: tabulate>=0.8.9 in /usr/local/lib/python3.10/dist-packages (from dm-haiku>=0.0.5->gpax==0.0.7) (0.8.10)\n",
            "Requirement already satisfied: ml-dtypes>=0.1.0 in /usr/local/lib/python3.10/dist-packages (from jax>=0.4.8->gpax==0.0.7) (0.2.0)\n",
            "Requirement already satisfied: opt-einsum in /usr/local/lib/python3.10/dist-packages (from jax>=0.4.8->gpax==0.0.7) (3.3.0)\n",
            "Requirement already satisfied: scipy>=1.7 in /usr/local/lib/python3.10/dist-packages (from jax>=0.4.8->gpax==0.0.7) (1.10.1)\n",
            "Requirement already satisfied: contourpy>=1.0.1 in /usr/local/lib/python3.10/dist-packages (from matplotlib>=3.1->gpax==0.0.7) (1.1.0)\n",
            "Requirement already satisfied: cycler>=0.10 in /usr/local/lib/python3.10/dist-packages (from matplotlib>=3.1->gpax==0.0.7) (0.11.0)\n",
            "Requirement already satisfied: fonttools>=4.22.0 in /usr/local/lib/python3.10/dist-packages (from matplotlib>=3.1->gpax==0.0.7) (4.40.0)\n",
            "Requirement already satisfied: kiwisolver>=1.0.1 in /usr/local/lib/python3.10/dist-packages (from matplotlib>=3.1->gpax==0.0.7) (1.4.4)\n",
            "Requirement already satisfied: packaging>=20.0 in /usr/local/lib/python3.10/dist-packages (from matplotlib>=3.1->gpax==0.0.7) (23.1)\n",
            "Requirement already satisfied: pillow>=6.2.0 in /usr/local/lib/python3.10/dist-packages (from matplotlib>=3.1->gpax==0.0.7) (8.4.0)\n",
            "Requirement already satisfied: pyparsing>=2.3.1 in /usr/local/lib/python3.10/dist-packages (from matplotlib>=3.1->gpax==0.0.7) (3.1.0)\n",
            "Requirement already satisfied: python-dateutil>=2.7 in /usr/local/lib/python3.10/dist-packages (from matplotlib>=3.1->gpax==0.0.7) (2.8.2)\n",
            "Requirement already satisfied: jaxlib>=0.4.7 in /usr/local/lib/python3.10/dist-packages (from numpyro>=0.11.0->gpax==0.0.7) (0.4.10+cuda11.cudnn86)\n",
            "Requirement already satisfied: multipledispatch in /usr/local/lib/python3.10/dist-packages (from numpyro>=0.11.0->gpax==0.0.7) (0.6.0)\n",
            "Requirement already satisfied: tqdm in /usr/local/lib/python3.10/dist-packages (from numpyro>=0.11.0->gpax==0.0.7) (4.65.0)\n",
            "Requirement already satisfied: six>=1.5 in /usr/local/lib/python3.10/dist-packages (from python-dateutil>=2.7->matplotlib>=3.1->gpax==0.0.7) (1.16.0)\n",
            "Building wheels for collected packages: gpax\n",
            "  Building wheel for gpax (setup.py) ... \u001b[?25l\u001b[?25hdone\n",
            "  Created wheel for gpax: filename=gpax-0.0.7-py3-none-any.whl size=45444 sha256=4c683e2e42a4213c08af8d1b9a61ed14d67d73979b634d2c48698f70b90135d6\n",
            "  Stored in directory: /tmp/pip-ephem-wheel-cache-brgb36yd/wheels/21/c1/25/dfa8bf46ba722df764d7b29c3601f20a6f2f67ae3898e1dbf2\n",
            "Successfully built gpax\n",
            "Installing collected packages: jmp, dm-haiku, numpyro, gpax\n",
            "Successfully installed dm-haiku-0.0.9 gpax-0.0.7 jmp-0.0.4 numpyro-0.12.1\n"
          ]
        }
      ],
      "source": [
        "!pip install git+https://github.com/ziatdinovmax/gpax.git"
      ]
    },
    {
      "cell_type": "markdown",
      "source": [
        "Imports:"
      ],
      "metadata": {
        "id": "KCxGmQAnEJRI"
      }
    },
    {
      "cell_type": "code",
      "source": [
        "import gpax\n",
        "import numpyro\n",
        "import jax\n",
        "from jax import jit\n",
        "import jax.numpy as jnp\n",
        "\n",
        "import numpy as np\n",
        "import math\n",
        "import matplotlib.pyplot as plt\n",
        "\n",
        "gpax.utils.enable_x64()"
      ],
      "metadata": {
        "id": "PsL4V3btB8Lp"
      },
      "execution_count": 2,
      "outputs": []
    },
    {
      "cell_type": "markdown",
      "source": [
        "The multi-task/fidelity kernel is defined as\n",
        "\n",
        "$$k_{multitask}(x, x', i, j) = k_{data}(x, x') \\times k_{task}[i,j]$$\n",
        "\n",
        "\n",
        "$$k_{task} = \\mathbf{B}\\mathbf{B}^T + \\text{diag}(\\mathbf{\\kappa})$$\n",
        "\n",
        "Here, $\\mathbf{B}$ is a matrix of weights and $\\mathbf{\\kappa}$ is a vector of variances for each output. Both are learnable parameters. The multitask kernel function operates on two inputs $x$ and $x'$ as well as two output indices $i$ and $j$.\n",
        "\n"
      ],
      "metadata": {
        "id": "COUk0_lGEgt9"
      }
    },
    {
      "cell_type": "markdown",
      "source": [
        "Let's define this multitask kernel in JAX. We assume that different tasks can have different noise levels."
      ],
      "metadata": {
        "id": "fcSppL13EMZl"
      }
    },
    {
      "cell_type": "code",
      "source": [
        "def index_kernel(indices1, indices2, params):  # this is k_task[i,j] in the definition above\n",
        "    B = params[\"B\"]\n",
        "    v = params[\"v\"]\n",
        "    covar = jnp.dot(B, B.T) + jnp.diag(v)\n",
        "    return covar[jnp.ix_(indices1, indices2)]\n",
        "\n",
        "\n",
        "def multi_task_kernel(X, Z, data_kernel, params, noise=None, **kwargs):\n",
        "    # Extract input data and task indices from X and Z\n",
        "    X_data, indices_X = X[:, :-1], X[:, -1].astype(int)\n",
        "    Z_data, indices_Z = Z[:, :-1], Z[:, -1].astype(int)\n",
        "\n",
        "    # Compute data and task kernels\n",
        "    k_data = data_kernel(X_data, Z_data, params, 0, **kwargs) # no noise for data kernel - we'll add it later\n",
        "    k_task = index_kernel(indices_X, indices_Z, params)\n",
        "\n",
        "    # Compute the multi-task kernel\n",
        "    K = k_data * k_task\n",
        "\n",
        "    # Add noise associated with each task\n",
        "    if X.shape == Z.shape and noise is not None:\n",
        "        # Get the noise corresponding to each sample's task\n",
        "        sample_noise = noise[indices_X]\n",
        "        # Add the noise to the diagonal of the kernel matrix\n",
        "        K = K.at[jnp.diag_indices(K.shape[0])].add(sample_noise)\n",
        "\n",
        "    return K"
      ],
      "metadata": {
        "id": "RiaXy_PlCBku"
      },
      "execution_count": 3,
      "outputs": []
    },
    {
      "cell_type": "markdown",
      "source": [
        "Set default priors for the multitask kernel:"
      ],
      "metadata": {
        "id": "tLyv79FxEgCX"
      }
    },
    {
      "cell_type": "code",
      "source": [
        "def data_kernel_prior(output_scale=False):\n",
        "    # Sample data kernel length and (optionally) output scale\n",
        "    k_scale = numpyro.deterministic(\"k_scale\", jnp.array(1))\n",
        "    k_length = numpyro.sample(\"k_length\", numpyro.distributions.Gamma(2, 5))\n",
        "    if output_scale:\n",
        "        k_scale = numpyro.sample(\"k_scale\", numpyro.distributions.LogNormal(0, 1))\n",
        "    # Hyperparameters are returned as a dictionary\n",
        "    return {\"k_length\": k_length, \"k_scale\": k_scale}\n",
        "\n",
        "def task_kernel_prior(n_tasks=2, rank=1):\n",
        "    # Sample index kernel hyperparameters\n",
        "    B  = numpyro.sample(\"B\", numpyro.distributions.Normal(\n",
        "        jnp.zeros(shape=(n_tasks, rank)), 10*jnp.ones(shape=(n_tasks, rank))))\n",
        "    v = numpyro.sample(\"v\", numpyro.distributions.LogNormal(\n",
        "        jnp.zeros(shape=(n_tasks,)), jnp.ones(shape=(n_tasks,))))\n",
        "    # Hyperparameters are returned as a dictionary\n",
        "    return {\"B\": B, \"v\": v}"
      ],
      "metadata": {
        "id": "dzSpTqLhEQwf"
      },
      "execution_count": 4,
      "outputs": []
    },
    {
      "cell_type": "code",
      "source": [
        "# A single prior sample for the task kernel\n",
        "with numpyro.handlers.seed(rng_seed=1):\n",
        "    task_kernel_sampled_params = task_kernel_prior()\n",
        "\n",
        "task_kernel_sampled_params"
      ],
      "metadata": {
        "colab": {
          "base_uri": "https://localhost:8080/"
        },
        "id": "gvSDxAk-EsMg",
        "outputId": "b8c14dd1-a600-4964-f21a-d056ff3e0fa5"
      },
      "execution_count": 5,
      "outputs": [
        {
          "output_type": "stream",
          "name": "stderr",
          "text": [
            "WARNING:jax._src.xla_bridge:No GPU/TPU found, falling back to CPU. (Set TF_CPP_MIN_LOG_LEVEL=0 and rerun for more info.)\n"
          ]
        },
        {
          "output_type": "execute_result",
          "data": {
            "text/plain": [
              "{'B': Array([[  5.1115804 ],\n",
              "        [-10.63611052]], dtype=float64),\n",
              " 'v': Array([1.02576457, 0.53052964], dtype=float64)}"
            ]
          },
          "metadata": {},
          "execution_count": 5
        }
      ]
    },
    {
      "cell_type": "markdown",
      "source": [
        "Next, we define a probabilistic multi-fidelity/task GP model in GPax. Notice that it is currently not a part of the GPax package."
      ],
      "metadata": {
        "id": "wCQO9tPrObVM"
      }
    },
    {
      "cell_type": "code",
      "source": [
        "from typing import Dict, Callable, Tuple, Optional\n",
        "from gpax import ExactGP\n",
        "from gpax.kernels import get_kernel, RBFKernel\n",
        "import numpyro.distributions as dist\n",
        "from functools import partial\n",
        "\n",
        "class GPaxMultiTaskGP(ExactGP):\n",
        "\n",
        "    def __init__(self, input_dim: int, data_kernel: str,\n",
        "                 data_kernel_prior: Optional[Callable[[], Dict[str, jnp.ndarray]]] = None,\n",
        "                 task_kernel_prior: Optional[Callable[[], Dict[str, jnp.ndarray]]] = None,\n",
        "                 noise_prior: Optional[Callable[[], Dict[str, jnp.ndarray]]] = None\n",
        "                 ) -> None:\n",
        "        args = (input_dim, None)\n",
        "        super(GPaxMultiTaskGP, self).__init__(*args)\n",
        "        self.num_tasks = None\n",
        "        self.data_kernel = data_kernel\n",
        "        self.data_kernel_prior = data_kernel_prior\n",
        "        self.task_kernel_prior = task_kernel_prior\n",
        "\n",
        "    def model(self,\n",
        "              X: jnp.ndarray,\n",
        "              y: jnp.ndarray = None,\n",
        "              **kwargs: float\n",
        "              ) -> None:\n",
        "        \"\"\"Multitask GP probabilistic model with inputs X and targets y\"\"\"\n",
        "        self.num_tasks = len(np.unique(X[:, -1]))\n",
        "        # Initialize mean function at zeros\n",
        "        f_loc = jnp.zeros(X.shape[0])\n",
        "\n",
        "        # Sample data kernel parameters\n",
        "        if self.data_kernel_prior:\n",
        "            data_kernel_params = self.data_kernel_prior()\n",
        "        else:\n",
        "            data_kernel_params = self._sample_kernel_params()\n",
        "\n",
        "        # Sample task kernel parameters\n",
        "        if self.task_kernel_prior:\n",
        "            task_kernel_params = self.task_kernel_prior()\n",
        "        else:\n",
        "            task_kernel_params = self._sample_task_kernel_params()\n",
        "\n",
        "        # Combine two dictionaries\n",
        "        kernel_params = {**data_kernel_params, **task_kernel_params}\n",
        "\n",
        "         # Sample noise\n",
        "        if self.noise_prior:\n",
        "            noise = self.noise_prior()\n",
        "        else:  # consider using numpyro.plate here\n",
        "            noise = numpyro.sample(\n",
        "                \"noise\", dist.LogNormal(\n",
        "                    jnp.zeros(self.num_tasks), jnp.ones(self.num_tasks))\n",
        "            )\n",
        "\n",
        "        # Compute multitask_kernel\n",
        "        k = multi_task_kernel(X, X, self.data_kernel, kernel_params, noise)\n",
        "\n",
        "        # Add mean function (if any)\n",
        "        if self.mean_fn is not None:\n",
        "            args = [X]\n",
        "            if self.mean_fn_prior is not None:\n",
        "                args += [self.mean_fn_prior()]\n",
        "            f_loc += self.mean_fn(*args).squeeze()\n",
        "\n",
        "        # sample y according to the standard Gaussian process formula\n",
        "        numpyro.sample(\n",
        "            \"y\",\n",
        "            dist.MultivariateNormal(loc=f_loc, covariance_matrix=k),\n",
        "            obs=y,\n",
        "        )\n",
        "\n",
        "    def _sample_kernel_params(self, output_scale: bool = False) -> Dict[str, jnp.ndarray]:\n",
        "        \"\"\"\n",
        "        Sample kernel parameters with default\n",
        "        weakly-informative log-normal priors\n",
        "        \"\"\"\n",
        "        with numpyro.plate('k_param', self.kernel_dim):  # allows using ARD kernel for kernel_dim > 1\n",
        "            length = numpyro.sample(\"k_length\", dist.LogNormal(0.0, 1.0))\n",
        "        if output_scale:\n",
        "            scale = numpyro.sample(\"k_scale\", dist.LogNormal(0.0, 1.0))\n",
        "        else:\n",
        "            scale = numpyro.deterministic(\"k_scale\", jnp.array(1.0))\n",
        "        if self.kernel == 'Periodic':\n",
        "            period = numpyro.sample(\"period\", dist.LogNormal(0.0, 1.0))\n",
        "        kernel_params = {\n",
        "            \"k_length\": length, \"k_scale\": scale,\n",
        "            \"period\": period if self.kernel == \"Periodic\" else None}\n",
        "        return kernel_params\n",
        "\n",
        "    @partial(jit, static_argnames='self')\n",
        "    def get_mvn_posterior(self,\n",
        "                          X_new: jnp.ndarray, params: Dict[str, jnp.ndarray],\n",
        "                          noiseless: bool = False, **kwargs: float\n",
        "                          ) -> Tuple[jnp.ndarray, jnp.ndarray]:\n",
        "        \"\"\"\n",
        "        Returns parameters (mean and cov) of multivariate normal posterior\n",
        "        for a single sample of GP parameters\n",
        "        \"\"\"\n",
        "        noise = params[\"noise\"]\n",
        "        noise_p = noise * (1 - jnp.array(noiseless, int))\n",
        "        y_residual = self.y_train.copy()\n",
        "        if self.mean_fn is not None:\n",
        "            args = [self.X_train, params] if self.mean_fn_prior else [self.X_train]\n",
        "            y_residual -= self.mean_fn(*args).squeeze()\n",
        "        # compute kernel matrices for train and test data\n",
        "        k_pp = multi_task_kernel(X_new, X_new, self.data_kernel, params, noise_p, **kwargs)\n",
        "        k_pX = multi_task_kernel(X_new, self.X_train, self.data_kernel, params, jitter=0.0)\n",
        "        k_XX = multi_task_kernel(self.X_train, self.X_train, self.data_kernel, params, noise, **kwargs)\n",
        "        # compute the predictive covariance and mean\n",
        "        K_xx_inv = jnp.linalg.inv(k_XX)\n",
        "        cov = k_pp - jnp.matmul(k_pX, jnp.matmul(K_xx_inv, jnp.transpose(k_pX)))\n",
        "        mean = jnp.matmul(k_pX, jnp.matmul(K_xx_inv, y_residual))\n",
        "        if self.mean_fn is not None:\n",
        "            args = [X_new, params] if self.mean_fn_prior else [X_new]\n",
        "            mean += self.mean_fn(*args).squeeze()\n",
        "        return mean, cov\n"
      ],
      "metadata": {
        "id": "r_Y2iIsvLKiz"
      },
      "execution_count": 6,
      "outputs": []
    },
    {
      "cell_type": "markdown",
      "source": [
        "Generate (correlated) synthetic dataset:"
      ],
      "metadata": {
        "id": "FSd7l8dXF0hf"
      }
    },
    {
      "cell_type": "code",
      "source": [
        "# Create two correlated datasets\n",
        "X1 = np.random.rand(16, 1)  # Input 1 (e.g. simulations)\n",
        "X2a = 0.2 * np.random.rand(3, 1) # Input 2 (e.g. experimental observations)\n",
        "X2b = 0.8+0.2 * np.random.rand(3, 1)\n",
        "X2 = np.concatenate([X2a, X2b])\n",
        "\n",
        "y1 = np.cos(8 * X1) + 0.05 * np.random.randn(*X1.shape)\n",
        "y2 = np.cos(8 * X2 + 0.8) + 0.1 * np.random.randn(*X2.shape)\n",
        "\n",
        "plt.figure(figsize=(7, 4))\n",
        "plt.scatter(X1, y1, marker=\"x\", color='black', label=\"task/fidelity 1\")\n",
        "plt.scatter(X2, y2, marker=\"x\", color='blue', label=\"task/fidelity 2\")\n",
        "plt.xlabel('X')\n",
        "plt.ylabel('y')\n",
        "plt.legend()"
      ],
      "metadata": {
        "colab": {
          "base_uri": "https://localhost:8080/",
          "height": 405
        },
        "id": "eME8dt_sEsgs",
        "outputId": "4adbd71c-ad78-4bf1-b9d6-6eb026ca8559"
      },
      "execution_count": 7,
      "outputs": [
        {
          "output_type": "execute_result",
          "data": {
            "text/plain": [
              "<matplotlib.legend.Legend at 0x7f03685401c0>"
            ]
          },
          "metadata": {},
          "execution_count": 7
        },
        {
          "output_type": "display_data",
          "data": {
            "text/plain": [
              "<Figure size 700x400 with 1 Axes>"
            ],
            "image/png": "[encoded data removed]"
          },
          "metadata": {}
        }
      ]
    },
    {
      "cell_type": "code",
      "source": [
        "# Add task/fidelity indices\n",
        "X = np.vstack(\n",
        "    (np.hstack((X1, np.zeros_like(X1))),  # add indices associated with the fidelity/task\n",
        "     np.hstack((X2, np.ones_like(X2)))) # # add indices associated with the fidelity/task\n",
        ")\n",
        "\n",
        "# We will pass target values to GP as a single array\n",
        "y = np.vstack((y1, y2)).squeeze()\n",
        "\n",
        "X.shape, y.shape"
      ],
      "metadata": {
        "colab": {
          "base_uri": "https://localhost:8080/"
        },
        "id": "iunww9JLK-gN",
        "outputId": "6440d28f-ed3f-4d52-df3b-9565e5916167"
      },
      "execution_count": 8,
      "outputs": [
        {
          "output_type": "execute_result",
          "data": {
            "text/plain": [
              "((22, 2), (22,))"
            ]
          },
          "metadata": {},
          "execution_count": 8
        }
      ]
    },
    {
      "cell_type": "markdown",
      "source": [
        "Train a multi-fidelity/task GP model:"
      ],
      "metadata": {
        "id": "eM5WhhZIK_mQ"
      }
    },
    {
      "cell_type": "code",
      "source": [
        "key1, key2 = gpax.utils.get_keys(1)\n",
        "\n",
        "model = GPaxMultiTaskGP(1, RBFKernel, data_kernel_prior, task_kernel_prior)\n",
        "model.fit(key1, X, y)"
      ],
      "metadata": {
        "colab": {
          "base_uri": "https://localhost:8080/"
        },
        "id": "K8VrJJBkwX9-",
        "outputId": "4f214476-ce76-4774-b701-27977dd6ba79"
      },
      "execution_count": 9,
      "outputs": [
        {
          "output_type": "stream",
          "name": "stderr",
          "text": [
            "sample: 100%|██████████| 4000/4000 [00:09<00:00, 404.37it/s, 31 steps of size 1.31e-01. acc. prob=0.84] \n"
          ]
        },
        {
          "output_type": "stream",
          "name": "stdout",
          "text": [
            "\n",
            "                mean       std    median      5.0%     95.0%     n_eff     r_hat\n",
            "    B[0,0]     -0.09      3.73     -0.26     -5.61      6.20    347.17      1.00\n",
            "    B[1,0]     -0.08      2.98     -0.12     -4.33      5.22    554.50      1.00\n",
            "  k_length      0.29      0.08      0.28      0.16      0.41    720.58      1.00\n",
            "   k_scale      1.00      0.00      1.00      1.00      1.00       nan       nan\n",
            "  noise[0]      0.02      0.02      0.02      0.00      0.04    754.42      1.00\n",
            "  noise[1]      0.39      0.44      0.25      0.01      0.84    972.80      1.00\n",
            "      v[0]      1.08      1.10      0.74      0.06      2.28   1236.24      1.00\n",
            "      v[1]      0.95      1.02      0.64      0.04      2.05   1263.22      1.00\n",
            "\n"
          ]
        }
      ]
    },
    {
      "cell_type": "markdown",
      "source": [
        "Make a prediction:"
      ],
      "metadata": {
        "id": "DoQDESsf2BzT"
      }
    },
    {
      "cell_type": "code",
      "source": [
        "# Generate \"test data\" (a dense uniform grid of points covering the entire parameter space)\n",
        "X_test = np.linspace(0, 1, 100)[:, None]\n",
        "X_test1 = np.hstack((X_test, np.zeros_like(X_test)))\n",
        "X_test2 = np.hstack((X_test, np.ones_like(X_test)))\n",
        "\n",
        "# Make a prediction with the trained model\n",
        "y_mean1, y_sampled1 = model.predict(key2, X_test1)\n",
        "y_mean2, y_sampled2 = model.predict(key2, X_test2)"
      ],
      "metadata": {
        "id": "wn-q-7cAx5cB"
      },
      "execution_count": 10,
      "outputs": []
    },
    {
      "cell_type": "markdown",
      "source": [
        "Plot results:"
      ],
      "metadata": {
        "id": "l_Qd0zol1zNU"
      }
    },
    {
      "cell_type": "code",
      "source": [
        "plt.figure(figsize=(7, 4))\n",
        "plt.scatter(X1, y1, marker=\"x\", color='black')\n",
        "plt.scatter(X2, y2, marker=\"x\", color='blue')\n",
        "\n",
        "plt.plot(X_test[:, 0], y_mean1, color='black', label=\"prediction for task/fidelity 1\")\n",
        "plt.fill_between(X_test[:, 0],\n",
        "                 y_mean1 - y_sampled1.squeeze().std(0),\n",
        "                 y_mean1 + y_sampled1.squeeze().std(0),\n",
        "                 alpha=0.2, color='black')\n",
        "plt.plot(X_test[:, 0], y_mean2, color='blue', label=\"prediction for task/fidelity 2\")\n",
        "plt.fill_between(X_test[:, 0],\n",
        "                 y_mean2 - y_sampled2.squeeze().std(0),\n",
        "                 y_mean2 + y_sampled2.squeeze().std(0),\n",
        "                 alpha=0.2, color='blue')\n",
        "plt.legend(loc='upper left')"
      ],
      "metadata": {
        "colab": {
          "base_uri": "https://localhost:8080/",
          "height": 385
        },
        "id": "vEXfo7_umnLt",
        "outputId": "3430718f-b0b7-4e1f-f4dd-c1aa28eb84dc"
      },
      "execution_count": 11,
      "outputs": [
        {
          "output_type": "execute_result",
          "data": {
            "text/plain": [
              "<matplotlib.legend.Legend at 0x7f0360649720>"
            ]
          },
          "metadata": {},
          "execution_count": 11
        },
        {
          "output_type": "display_data",
          "data": {
            "text/plain": [
              "<Figure size 700x400 with 1 Axes>"
            ],
            "image/png": "[encoded data removed]"
          },
          "metadata": {}
        }
      ]
    },
    {
      "cell_type": "code",
      "source": [],
      "metadata": {
        "id": "0uIrtVRA77vh"
      },
      "execution_count": 11,
      "outputs": []
    }
  ]
}